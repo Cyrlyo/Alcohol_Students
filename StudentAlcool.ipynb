{
 "cells": [
  {
   "cell_type": "code",
   "execution_count": 1,
   "id": "33077357",
   "metadata": {},
   "outputs": [],
   "source": [
    "import pandas as pd\n",
    "import numpy as np\n",
    "import networkx as nx\n",
    "import matplotlib.pyplot as plt"
   ]
  },
  {
   "cell_type": "code",
   "execution_count": 2,
   "id": "b099ac6a",
   "metadata": {},
   "outputs": [],
   "source": [
    "data = pd.read_csv(\"./Data/student_all.csv\")"
   ]
  },
  {
   "cell_type": "code",
   "execution_count": 3,
   "id": "b7d75aba",
   "metadata": {},
   "outputs": [],
   "source": [
    "data.rename(columns={\"sex\":\"gender\"}, inplace=True)"
   ]
  },
  {
   "cell_type": "code",
   "execution_count": 4,
   "id": "7a067bb8",
   "metadata": {},
   "outputs": [],
   "source": [
    "data.drop(columns='Unnamed: 0', inplace=True)"
   ]
  },
  {
   "cell_type": "code",
   "execution_count": 5,
   "id": "31f9268e",
   "metadata": {},
   "outputs": [],
   "source": [
    "data['alc'] = data['Dalc'] + data['Walc']"
   ]
  },
  {
   "cell_type": "code",
   "execution_count": 6,
   "id": "30856caf",
   "metadata": {},
   "outputs": [],
   "source": [
    "indexes = [i for i in range(data.shape[0])]\n",
    "indexes = pd.DataFrame({\"Names\":indexes})\n",
    "indexes\n",
    "data = pd.concat([data, indexes], axis=1)"
   ]
  },
  {
   "cell_type": "code",
   "execution_count": 7,
   "id": "0aeb20c4",
   "metadata": {},
   "outputs": [
    {
     "name": "stderr",
     "output_type": "stream",
     "text": [
      "C:\\Users\\Marin\\AppData\\Local\\Temp/ipykernel_4120/3828257580.py:1: SettingWithCopyWarning: \n",
      "A value is trying to be set on a copy of a slice from a DataFrame\n",
      "\n",
      "See the caveats in the documentation: https://pandas.pydata.org/pandas-docs/stable/user_guide/indexing.html#returning-a-view-versus-a-copy\n",
      "  data[\"guardian\"][data[\"guardian\"] == \"father\"] = \"parent\"\n",
      "C:\\Users\\Marin\\AppData\\Local\\Temp/ipykernel_4120/3828257580.py:2: SettingWithCopyWarning: \n",
      "A value is trying to be set on a copy of a slice from a DataFrame\n",
      "\n",
      "See the caveats in the documentation: https://pandas.pydata.org/pandas-docs/stable/user_guide/indexing.html#returning-a-view-versus-a-copy\n",
      "  data[\"guardian\"][data[\"guardian\"] == \"mother\"] = \"parent\"\n"
     ]
    }
   ],
   "source": [
    "data[\"guardian\"][data[\"guardian\"] == \"father\"] = \"parent\"\n",
    "data[\"guardian\"][data[\"guardian\"] == \"mother\"] = \"parent\""
   ]
  },
  {
   "cell_type": "code",
   "execution_count": 8,
   "id": "3d10c752",
   "metadata": {},
   "outputs": [
    {
     "name": "stderr",
     "output_type": "stream",
     "text": [
      "C:\\Users\\Marin\\AppData\\Local\\Temp/ipykernel_4120/2866260647.py:1: SettingWithCopyWarning: \n",
      "A value is trying to be set on a copy of a slice from a DataFrame\n",
      "\n",
      "See the caveats in the documentation: https://pandas.pydata.org/pandas-docs/stable/user_guide/indexing.html#returning-a-view-versus-a-copy\n",
      "  data['absences'][(data[\"absences\"] > 0) & (data[\"absences\"] < 11)] = 1\n"
     ]
    }
   ],
   "source": [
    "data['absences'][(data[\"absences\"] > 0) & (data[\"absences\"] < 11)] = 1"
   ]
  },
  {
   "cell_type": "code",
   "execution_count": 9,
   "id": "15bfd4ed",
   "metadata": {},
   "outputs": [
    {
     "data": {
      "text/plain": [
       "array(['parent', 'other'], dtype=object)"
      ]
     },
     "execution_count": 9,
     "metadata": {},
     "output_type": "execute_result"
    }
   ],
   "source": [
    "data[\"guardian\"].unique()"
   ]
  },
  {
   "cell_type": "code",
   "execution_count": 10,
   "id": "a182f9ab",
   "metadata": {},
   "outputs": [
    {
     "data": {
      "text/html": [
       "<div>\n",
       "<style scoped>\n",
       "    .dataframe tbody tr th:only-of-type {\n",
       "        vertical-align: middle;\n",
       "    }\n",
       "\n",
       "    .dataframe tbody tr th {\n",
       "        vertical-align: top;\n",
       "    }\n",
       "\n",
       "    .dataframe thead th {\n",
       "        text-align: right;\n",
       "    }\n",
       "</style>\n",
       "<table border=\"1\" class=\"dataframe\">\n",
       "  <thead>\n",
       "    <tr style=\"text-align: right;\">\n",
       "      <th></th>\n",
       "      <th>school</th>\n",
       "      <th>gender</th>\n",
       "      <th>age</th>\n",
       "      <th>address</th>\n",
       "      <th>famsize</th>\n",
       "      <th>Pstatus</th>\n",
       "      <th>Medu</th>\n",
       "      <th>Fedu</th>\n",
       "      <th>Mjob</th>\n",
       "      <th>Fjob</th>\n",
       "      <th>...</th>\n",
       "      <th>Dalc</th>\n",
       "      <th>Walc</th>\n",
       "      <th>health</th>\n",
       "      <th>absences</th>\n",
       "      <th>G1</th>\n",
       "      <th>G2</th>\n",
       "      <th>G3</th>\n",
       "      <th>course</th>\n",
       "      <th>alc</th>\n",
       "      <th>Names</th>\n",
       "    </tr>\n",
       "  </thead>\n",
       "  <tbody>\n",
       "    <tr>\n",
       "      <th>0</th>\n",
       "      <td>GP</td>\n",
       "      <td>F</td>\n",
       "      <td>18</td>\n",
       "      <td>U</td>\n",
       "      <td>GT3</td>\n",
       "      <td>A</td>\n",
       "      <td>4</td>\n",
       "      <td>4</td>\n",
       "      <td>at_home</td>\n",
       "      <td>teacher</td>\n",
       "      <td>...</td>\n",
       "      <td>1</td>\n",
       "      <td>1</td>\n",
       "      <td>3</td>\n",
       "      <td>1</td>\n",
       "      <td>5</td>\n",
       "      <td>6</td>\n",
       "      <td>6</td>\n",
       "      <td>mat</td>\n",
       "      <td>2</td>\n",
       "      <td>0</td>\n",
       "    </tr>\n",
       "    <tr>\n",
       "      <th>1</th>\n",
       "      <td>GP</td>\n",
       "      <td>F</td>\n",
       "      <td>17</td>\n",
       "      <td>U</td>\n",
       "      <td>GT3</td>\n",
       "      <td>T</td>\n",
       "      <td>1</td>\n",
       "      <td>1</td>\n",
       "      <td>at_home</td>\n",
       "      <td>other</td>\n",
       "      <td>...</td>\n",
       "      <td>1</td>\n",
       "      <td>1</td>\n",
       "      <td>3</td>\n",
       "      <td>1</td>\n",
       "      <td>5</td>\n",
       "      <td>5</td>\n",
       "      <td>6</td>\n",
       "      <td>mat</td>\n",
       "      <td>2</td>\n",
       "      <td>1</td>\n",
       "    </tr>\n",
       "    <tr>\n",
       "      <th>2</th>\n",
       "      <td>GP</td>\n",
       "      <td>F</td>\n",
       "      <td>15</td>\n",
       "      <td>U</td>\n",
       "      <td>LE3</td>\n",
       "      <td>T</td>\n",
       "      <td>1</td>\n",
       "      <td>1</td>\n",
       "      <td>at_home</td>\n",
       "      <td>other</td>\n",
       "      <td>...</td>\n",
       "      <td>2</td>\n",
       "      <td>3</td>\n",
       "      <td>3</td>\n",
       "      <td>1</td>\n",
       "      <td>7</td>\n",
       "      <td>8</td>\n",
       "      <td>10</td>\n",
       "      <td>mat</td>\n",
       "      <td>5</td>\n",
       "      <td>2</td>\n",
       "    </tr>\n",
       "    <tr>\n",
       "      <th>3</th>\n",
       "      <td>GP</td>\n",
       "      <td>F</td>\n",
       "      <td>15</td>\n",
       "      <td>U</td>\n",
       "      <td>GT3</td>\n",
       "      <td>T</td>\n",
       "      <td>4</td>\n",
       "      <td>2</td>\n",
       "      <td>health</td>\n",
       "      <td>services</td>\n",
       "      <td>...</td>\n",
       "      <td>1</td>\n",
       "      <td>1</td>\n",
       "      <td>5</td>\n",
       "      <td>1</td>\n",
       "      <td>15</td>\n",
       "      <td>14</td>\n",
       "      <td>15</td>\n",
       "      <td>mat</td>\n",
       "      <td>2</td>\n",
       "      <td>3</td>\n",
       "    </tr>\n",
       "    <tr>\n",
       "      <th>4</th>\n",
       "      <td>GP</td>\n",
       "      <td>F</td>\n",
       "      <td>16</td>\n",
       "      <td>U</td>\n",
       "      <td>GT3</td>\n",
       "      <td>T</td>\n",
       "      <td>3</td>\n",
       "      <td>3</td>\n",
       "      <td>other</td>\n",
       "      <td>other</td>\n",
       "      <td>...</td>\n",
       "      <td>1</td>\n",
       "      <td>2</td>\n",
       "      <td>5</td>\n",
       "      <td>1</td>\n",
       "      <td>6</td>\n",
       "      <td>10</td>\n",
       "      <td>10</td>\n",
       "      <td>mat</td>\n",
       "      <td>3</td>\n",
       "      <td>4</td>\n",
       "    </tr>\n",
       "    <tr>\n",
       "      <th>5</th>\n",
       "      <td>GP</td>\n",
       "      <td>M</td>\n",
       "      <td>16</td>\n",
       "      <td>U</td>\n",
       "      <td>LE3</td>\n",
       "      <td>T</td>\n",
       "      <td>4</td>\n",
       "      <td>3</td>\n",
       "      <td>services</td>\n",
       "      <td>other</td>\n",
       "      <td>...</td>\n",
       "      <td>1</td>\n",
       "      <td>2</td>\n",
       "      <td>5</td>\n",
       "      <td>1</td>\n",
       "      <td>15</td>\n",
       "      <td>15</td>\n",
       "      <td>15</td>\n",
       "      <td>mat</td>\n",
       "      <td>3</td>\n",
       "      <td>5</td>\n",
       "    </tr>\n",
       "    <tr>\n",
       "      <th>6</th>\n",
       "      <td>GP</td>\n",
       "      <td>M</td>\n",
       "      <td>16</td>\n",
       "      <td>U</td>\n",
       "      <td>LE3</td>\n",
       "      <td>T</td>\n",
       "      <td>2</td>\n",
       "      <td>2</td>\n",
       "      <td>other</td>\n",
       "      <td>other</td>\n",
       "      <td>...</td>\n",
       "      <td>1</td>\n",
       "      <td>1</td>\n",
       "      <td>3</td>\n",
       "      <td>0</td>\n",
       "      <td>12</td>\n",
       "      <td>12</td>\n",
       "      <td>11</td>\n",
       "      <td>mat</td>\n",
       "      <td>2</td>\n",
       "      <td>6</td>\n",
       "    </tr>\n",
       "    <tr>\n",
       "      <th>7</th>\n",
       "      <td>GP</td>\n",
       "      <td>F</td>\n",
       "      <td>17</td>\n",
       "      <td>U</td>\n",
       "      <td>GT3</td>\n",
       "      <td>A</td>\n",
       "      <td>4</td>\n",
       "      <td>4</td>\n",
       "      <td>other</td>\n",
       "      <td>teacher</td>\n",
       "      <td>...</td>\n",
       "      <td>1</td>\n",
       "      <td>1</td>\n",
       "      <td>1</td>\n",
       "      <td>1</td>\n",
       "      <td>6</td>\n",
       "      <td>5</td>\n",
       "      <td>6</td>\n",
       "      <td>mat</td>\n",
       "      <td>2</td>\n",
       "      <td>7</td>\n",
       "    </tr>\n",
       "    <tr>\n",
       "      <th>8</th>\n",
       "      <td>GP</td>\n",
       "      <td>M</td>\n",
       "      <td>15</td>\n",
       "      <td>U</td>\n",
       "      <td>LE3</td>\n",
       "      <td>A</td>\n",
       "      <td>3</td>\n",
       "      <td>2</td>\n",
       "      <td>services</td>\n",
       "      <td>other</td>\n",
       "      <td>...</td>\n",
       "      <td>1</td>\n",
       "      <td>1</td>\n",
       "      <td>1</td>\n",
       "      <td>0</td>\n",
       "      <td>16</td>\n",
       "      <td>18</td>\n",
       "      <td>19</td>\n",
       "      <td>mat</td>\n",
       "      <td>2</td>\n",
       "      <td>8</td>\n",
       "    </tr>\n",
       "    <tr>\n",
       "      <th>9</th>\n",
       "      <td>GP</td>\n",
       "      <td>M</td>\n",
       "      <td>15</td>\n",
       "      <td>U</td>\n",
       "      <td>GT3</td>\n",
       "      <td>T</td>\n",
       "      <td>3</td>\n",
       "      <td>4</td>\n",
       "      <td>other</td>\n",
       "      <td>other</td>\n",
       "      <td>...</td>\n",
       "      <td>1</td>\n",
       "      <td>1</td>\n",
       "      <td>5</td>\n",
       "      <td>0</td>\n",
       "      <td>14</td>\n",
       "      <td>15</td>\n",
       "      <td>15</td>\n",
       "      <td>mat</td>\n",
       "      <td>2</td>\n",
       "      <td>9</td>\n",
       "    </tr>\n",
       "  </tbody>\n",
       "</table>\n",
       "<p>10 rows × 36 columns</p>\n",
       "</div>"
      ],
      "text/plain": [
       "  school gender  age address famsize Pstatus  Medu  Fedu      Mjob      Fjob  \\\n",
       "0     GP      F   18       U     GT3       A     4     4   at_home   teacher   \n",
       "1     GP      F   17       U     GT3       T     1     1   at_home     other   \n",
       "2     GP      F   15       U     LE3       T     1     1   at_home     other   \n",
       "3     GP      F   15       U     GT3       T     4     2    health  services   \n",
       "4     GP      F   16       U     GT3       T     3     3     other     other   \n",
       "5     GP      M   16       U     LE3       T     4     3  services     other   \n",
       "6     GP      M   16       U     LE3       T     2     2     other     other   \n",
       "7     GP      F   17       U     GT3       A     4     4     other   teacher   \n",
       "8     GP      M   15       U     LE3       A     3     2  services     other   \n",
       "9     GP      M   15       U     GT3       T     3     4     other     other   \n",
       "\n",
       "   ... Dalc Walc  health  absences  G1  G2  G3 course alc Names  \n",
       "0  ...    1    1       3         1   5   6   6    mat   2     0  \n",
       "1  ...    1    1       3         1   5   5   6    mat   2     1  \n",
       "2  ...    2    3       3         1   7   8  10    mat   5     2  \n",
       "3  ...    1    1       5         1  15  14  15    mat   2     3  \n",
       "4  ...    1    2       5         1   6  10  10    mat   3     4  \n",
       "5  ...    1    2       5         1  15  15  15    mat   3     5  \n",
       "6  ...    1    1       3         0  12  12  11    mat   2     6  \n",
       "7  ...    1    1       1         1   6   5   6    mat   2     7  \n",
       "8  ...    1    1       1         0  16  18  19    mat   2     8  \n",
       "9  ...    1    1       5         0  14  15  15    mat   2     9  \n",
       "\n",
       "[10 rows x 36 columns]"
      ]
     },
     "execution_count": 10,
     "metadata": {},
     "output_type": "execute_result"
    }
   ],
   "source": [
    "data.head(10)"
   ]
  },
  {
   "cell_type": "code",
   "execution_count": 11,
   "id": "599846d5",
   "metadata": {},
   "outputs": [
    {
     "data": {
      "text/plain": [
       "(1044, 36)"
      ]
     },
     "execution_count": 11,
     "metadata": {},
     "output_type": "execute_result"
    }
   ],
   "source": [
    "data.shape"
   ]
  },
  {
   "cell_type": "code",
   "execution_count": 12,
   "id": "088120ec",
   "metadata": {},
   "outputs": [
    {
     "data": {
      "text/plain": [
       "Index(['school', 'gender', 'age', 'address', 'famsize', 'Pstatus', 'Medu',\n",
       "       'Fedu', 'Mjob', 'Fjob', 'reason', 'guardian', 'traveltime', 'studytime',\n",
       "       'failures', 'schoolsup', 'famsup', 'paid', 'activities', 'nursery',\n",
       "       'higher', 'internet', 'romantic', 'famrel', 'freetime', 'goout', 'Dalc',\n",
       "       'Walc', 'health', 'absences', 'G1', 'G2', 'G3', 'course', 'alc',\n",
       "       'Names'],\n",
       "      dtype='object')"
      ]
     },
     "execution_count": 12,
     "metadata": {},
     "output_type": "execute_result"
    }
   ],
   "source": [
    "data.columns"
   ]
  },
  {
   "cell_type": "code",
   "execution_count": 13,
   "id": "79b51bbc",
   "metadata": {},
   "outputs": [],
   "source": [
    "# To install a package in a Jupyter Notebook\n",
    "# !pip install *package name*"
   ]
  },
  {
   "cell_type": "code",
   "execution_count": 14,
   "id": "9bb36c22",
   "metadata": {},
   "outputs": [],
   "source": [
    "data_vec = data.to_numpy()"
   ]
  },
  {
   "cell_type": "code",
   "execution_count": 15,
   "id": "19632907",
   "metadata": {},
   "outputs": [
    {
     "data": {
      "text/plain": [
       "array([['GP', 'F', 18, ..., 'mat', 2, 0],\n",
       "       ['GP', 'F', 17, ..., 'mat', 2, 1],\n",
       "       ['GP', 'F', 15, ..., 'mat', 5, 2],\n",
       "       ...,\n",
       "       ['MS', 'F', 18, ..., 'por', 2, 1041],\n",
       "       ['MS', 'M', 17, ..., 'por', 7, 1042],\n",
       "       ['MS', 'M', 18, ..., 'por', 7, 1043]], dtype=object)"
      ]
     },
     "execution_count": 15,
     "metadata": {},
     "output_type": "execute_result"
    }
   ],
   "source": [
    "data_vec"
   ]
  },
  {
   "cell_type": "code",
   "execution_count": 16,
   "id": "28b363c2",
   "metadata": {},
   "outputs": [
    {
     "data": {
      "text/plain": [
       "array(['GP', 'F', 17, 'U', 'GT3', 'T', 1, 1, 'at_home', 'other', 'course',\n",
       "       'parent', 1, 2, 0, 'no', 'yes', 'no', 'no', 'no', 'yes', 'yes',\n",
       "       'no', 5, 3, 3, 1, 1, 3, 1, 5, 5, 6, 'mat', 2, 1], dtype=object)"
      ]
     },
     "execution_count": 16,
     "metadata": {},
     "output_type": "execute_result"
    }
   ],
   "source": [
    "data_vec[1, :]"
   ]
  },
  {
   "cell_type": "code",
   "execution_count": 17,
   "id": "a95c301a",
   "metadata": {},
   "outputs": [
    {
     "data": {
      "text/plain": [
       "True"
      ]
     },
     "execution_count": 17,
     "metadata": {},
     "output_type": "execute_result"
    }
   ],
   "source": [
    "data_vec[1, 1] == data_vec[1, 1]"
   ]
  },
  {
   "cell_type": "code",
   "execution_count": 18,
   "id": "8c77a0ef",
   "metadata": {},
   "outputs": [
    {
     "data": {
      "text/plain": [
       "(1044, 36)"
      ]
     },
     "execution_count": 18,
     "metadata": {},
     "output_type": "execute_result"
    }
   ],
   "source": [
    "data_vec.shape"
   ]
  },
  {
   "cell_type": "code",
   "execution_count": 19,
   "id": "1ce8ce17",
   "metadata": {},
   "outputs": [],
   "source": [
    "G = nx.Graph()"
   ]
  },
  {
   "cell_type": "code",
   "execution_count": 20,
   "id": "87683319",
   "metadata": {},
   "outputs": [],
   "source": [
    "# TODO: Define a threshold\n",
    "list_of_scores = []\n",
    "for vec in range(1, data_vec.shape[0]):\n",
    "    for vecs in range(data_vec.shape[0]):\n",
    "        list_difference = []\n",
    "        for col in range(data_vec.shape[1]):\n",
    "            list_difference.append(data_vec[vec - 1, col-1] != data_vec[vecs, col-1])\n",
    "            diff_score = sum(list_difference)\n",
    "            list_of_scores.append(diff_score)\n",
    "        if diff_score < 9:\n",
    "            G.add_edge(data_vec[vec, -1], data_vec[vecs, -1])\n",
    "        else: \n",
    "            pass"
   ]
  },
  {
   "cell_type": "code",
   "execution_count": 21,
   "id": "0ad9b611",
   "metadata": {},
   "outputs": [
    {
     "name": "stdout",
     "output_type": "stream",
     "text": [
      "Len: 39200112\n",
      "Mean: 9.89671896855805\n",
      "Median: 9.0\n",
      "Max: 34\n",
      "Min: 0\n"
     ]
    }
   ],
   "source": [
    "print(f\"Len: {len(list_of_scores)}\")\n",
    "print(f\"Mean: {np.mean(list_of_scores)}\")\n",
    "print(f\"Median: {np.median(list_of_scores)}\")\n",
    "print(f\"Max: {np.max(list_of_scores)}\")\n",
    "print(f\"Min: {np.min(list_of_scores)}\")"
   ]
  },
  {
   "cell_type": "code",
   "execution_count": 27,
   "id": "58adcd31",
   "metadata": {},
   "outputs": [
    {
     "data": {
      "image/png": "[encoded data removed]",
      "text/plain": [
       "<Figure size 432x288 with 1 Axes>"
      ]
     },
     "metadata": {},
     "output_type": "display_data"
    }
   ],
   "source": [
    "graph_options = {\n",
    "    'node_color': 'lightblue',\n",
    "    'node_size' : 10,\n",
    "    \"edge_color\": 'tab:grey'\n",
    "}\n",
    "\n",
    "nx.draw(G, **graph_options)\n",
    "plt.show()"
   ]
  },
  {
   "cell_type": "code",
   "execution_count": null,
   "id": "3250dbb3",
   "metadata": {},
   "outputs": [],
   "source": []
  }
 ],
 "metadata": {
  "kernelspec": {
   "display_name": "Python 3 (ipykernel)",
   "language": "python",
   "name": "python3"
  },
  "language_info": {
   "codemirror_mode": {
    "name": "ipython",
    "version": 3
   },
   "file_extension": ".py",
   "mimetype": "text/x-python",
   "name": "python",
   "nbconvert_exporter": "python",
   "pygments_lexer": "ipython3",
   "version": "3.9.7"
  }
 },
 "nbformat": 4,
 "nbformat_minor": 5
}
